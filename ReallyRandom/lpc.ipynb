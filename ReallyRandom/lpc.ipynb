{
 "cells": [
  {
   "cell_type": "markdown",
   "id": "b974fbf4",
   "metadata": {},
   "source": [
    "# Linear Preditive Coding\n",
    "\n",
    "Python version of the Matlab implementation provided by https://ccrma.stanford.edu/~hskim08/lpc/ \n",
    "\n",
    "A detailed explanation of the code is given in\n",
    "https://www.kuniga.me/blog/2021/05/13/lpc-in-python.html"
   ]
  },
  {
   "cell_type": "code",
   "execution_count": 1,
   "id": "14fca35f",
   "metadata": {},
   "outputs": [],
   "source": [
    "import scipy.io.wavfile\n",
    "import numpy as np\n",
    "from math import floor\n",
    "import scipy.signal as signal\n",
    "from scipy.signal import lfilter, resample\n",
    "from scipy.signal.windows import hann\n",
    "from numpy.random import randn "
   ]
  },
  {
   "cell_type": "markdown",
   "id": "87ecfc9a",
   "metadata": {},
   "source": [
    "Encode the signal by obtaining coefficients from the source-filter model."
   ]
  },
  {
   "cell_type": "code",
   "execution_count": 3,
   "id": "49368154",
   "metadata": {},
   "outputs": [],
   "source": [
    "\"\"\"\n",
    "Split the original signal into overlapping blocks\n",
    "\n",
    "x - a vector representing the time-series signal\n",
    "w - array corresponding to weights of the window function\n",
    "R - optional overlapping factor\n",
    "\n",
    "Returns:\n",
    "\n",
    "B - list of overlapping blocks\n",
    "\"\"\"\n",
    "def create_overlapping_blocks(x, w, R = 0.5):\n",
    "    n = len(x)\n",
    "    nw = len(w)\n",
    "    step = floor(nw * (1 - R))\n",
    "    nb = floor((n - nw) / step) + 1\n",
    "\n",
    "    B = np.zeros((nb, nw))\n",
    "\n",
    "    \n",
    "    for i in range(nb):\n",
    "        offset = i * step\n",
    "        B[i, :] = w * x[offset : nw + offset]\n",
    "        \n",
    "    return B\n",
    "\n",
    "def make_matrix_X(x, p):\n",
    "    n = len(x)\n",
    "    # [x_n, ..., x_1, 0, ..., 0]\n",
    "    xz = np.concatenate([x[::-1], np.zeros(p)])\n",
    "    \n",
    "    X = np.zeros((n - 1, p))\n",
    "    for i in range(n - 1):\n",
    "        offset = n - 1 - i \n",
    "        X[i, :] = xz[offset : offset + p]\n",
    "    return X\n",
    "\n",
    "\"\"\"\n",
    "An implementation of LPC.\n",
    "\n",
    "A detailed explanation can be found at\n",
    "https://ccrma.stanford.edu/~hskim08/lpc/\n",
    "\n",
    "x - a vector representing the time-series signal\n",
    "p - the polynomial order of the all-pole filter\n",
    "\n",
    "a - the coefficients to the all-pole filter\n",
    "g - the variance(power) of the source (scalar)\n",
    "e - the full error signal\n",
    "\n",
    "NOTE: This is not the most efficient implementation of LPC.\n",
    "Matlab's own implementation uses FFT to via the auto-correlation method\n",
    "which is noticeably faster. (O(n log(n)) vs O(n^2))\n",
    "\"\"\"\n",
    "def solve_lpc(x, p, ii):\n",
    "    b = x[1:].T\n",
    "        \n",
    "    X = make_matrix_X(x, p)\n",
    "    \n",
    "    a = np.linalg.lstsq(X, b)[0]\n",
    "\n",
    "    e = b.T - np.dot(X, a)\n",
    "    g = np.var(e)\n",
    "\n",
    "    return [a, g]\n",
    "\n",
    "\"\"\"\n",
    "Encodes the input signal into lpc coefficients using 50% OLA\n",
    "\n",
    "x - single channel input signal\n",
    "p - lpc order\n",
    "nw - window length\n",
    " \n",
    "A - the coefficients\n",
    "G - the signal power\n",
    "E - the full source (error) signal\n",
    "\"\"\"\n",
    "def lpc_encode(x, p, w):\n",
    "    B = create_overlapping_blocks(x, w)\n",
    "    \n",
    "    [nb, nw] = B.shape\n",
    "\n",
    "    A = np.zeros((p, nb))\n",
    "    G = np.zeros((1, nb))\n",
    "\n",
    "    for i in range(nb):\n",
    "        [a, g] = solve_lpc(B[i, :], p, i)\n",
    "   \n",
    "        A[:, i] = a\n",
    "        G[:, i] = g\n",
    "    \n",
    "    return [A, G]\n",
    "\n",
    "    \n",
    "    "
   ]
  },
  {
   "cell_type": "markdown",
   "id": "51e2287d",
   "metadata": {},
   "source": [
    "Decoding the signal by simulating a source-filter model"
   ]
  },
  {
   "cell_type": "code",
   "execution_count": 4,
   "id": "9e913a21",
   "metadata": {},
   "outputs": [],
   "source": [
    "\"\"\"\n",
    "Reconstruct the original signal from overlapping blocks\n",
    "\n",
    "B - list of overlapping blocks (see create_overlapping_blocks)\n",
    "\n",
    "x - the rendered signal\n",
    "\"\"\"\n",
    "def add_overlapping_blocks(B, R = 0.5):\n",
    "    [count, nw] = B.shape\n",
    "    step = floor(nw * R)\n",
    "\n",
    "    n = (count-1) * step + nw\n",
    "\n",
    "    x = np.zeros((n, ))\n",
    "\n",
    "    for i in range(count):\n",
    "        offset = i * step\n",
    "        x[offset : nw + offset] += B[i, :]\n",
    "\n",
    "    return x\n",
    "\n",
    "\n",
    "def run_source_filter(a, g, block_size):\n",
    "    src = np.sqrt(g)*randn(block_size, 1) # noise\n",
    "    \n",
    "    b = np.concatenate([np.array([-1]), a])\n",
    "    \n",
    "    x_hat = lfilter([1], b.T, src.T).T \n",
    "    return np.squeeze(x_hat)\n",
    "    \n",
    "\n",
    "\"\"\"\n",
    "Decodes the LPC coefficients into\n",
    "\n",
    "* A - the LPC filter coefficients\n",
    "* G - the signal power(G) or the signal power with fundamental frequency(GF) \n",
    "       or the full source signal(E) of each windowed segment.\n",
    "* w - the window function\n",
    "* lowcut - the cutoff frequency in normalized frequencies for a lowcut\n",
    "          filter.\n",
    "\"\"\"\n",
    "def lpc_decode(A, G, w, lowcut = 0):\n",
    "\n",
    "\n",
    "    [ne, n] = G.shape\n",
    "    nw = len(w)\n",
    "    [p, _] = A.shape\n",
    "\n",
    "    B_hat = np.zeros((n, nw))\n",
    "\n",
    "    for i in range(n):\n",
    "        B_hat[i,:] = run_source_filter(A[:, i], G[:, i], nw)\n",
    "\n",
    "    # recover signal from blocks\n",
    "    x_hat = add_overlapping_blocks(B_hat);\n",
    "        \n",
    "    return x_hat\n",
    "\n"
   ]
  },
  {
   "cell_type": "markdown",
   "id": "927c9b3b",
   "metadata": {},
   "source": [
    "## Main\n",
    "\n",
    "Audio samples can be obtained in https://ccrma.stanford.edu/~hskim08/lpc/lpc.zip\n"
   ]
  },
  {
   "cell_type": "code",
   "execution_count": 11,
   "id": "fdc05f64",
   "metadata": {},
   "outputs": [
    {
     "name": "stdout",
     "output_type": "stream",
     "text": [
      "Original signal size: 96249\n",
      "Encoded signal size: 48861\n",
      "Data reduction: 1.969853257198993\n",
      "done\n"
     ]
    }
   ],
   "source": [
    "[sample_rate, amplitudes] = scipy.io.wavfile.read('lpc/audio/speech.wav')\n",
    "amplitudes = np.array(amplitudes)\n",
    "\n",
    "# normalize\n",
    "amplitudes = 0.9*amplitudes/max(abs(amplitudes)); \n",
    "\n",
    "# resampling to 8kHz\n",
    "target_sample_rate = 8000\n",
    "target_size = int(len(amplitudes)*target_sample_rate/sample_rate)\n",
    "amplitudes = resample(amplitudes, target_size) \n",
    "sample_rate = target_sample_rate\n",
    "\n",
    "# 30ms Hann window\n",
    "sym = False # periodic\n",
    "w = hann(floor(0.03*sample_rate), sym) \n",
    "\n",
    "# Encode\n",
    "p = 60 # number of poles\n",
    "[A, G] = lpc_encode(amplitudes, p, w)\n",
    "\n",
    "# Print stats\n",
    "original_size = len(amplitudes)\n",
    "model_size = A.size + G.size\n",
    "print('Original signal size:', original_size)\n",
    "print('Encoded signal size:', model_size)\n",
    "print('Data reduction:', original_size/model_size)\n",
    "\n",
    "xhat = lpc_decode(A, G, w)\n",
    "\n",
    "scipy.io.wavfile.write(\"example.wav\", sample_rate, xhat)\n",
    "print('done')\n"
   ]
  },
  {
   "cell_type": "markdown",
   "id": "5a96f08e",
   "metadata": {},
   "source": [
    "Visualize the original signal and the decoded signal"
   ]
  },
  {
   "cell_type": "code",
   "execution_count": 8,
   "id": "58e510c1",
   "metadata": {},
   "outputs": [
    {
     "ename": "NameError",
     "evalue": "name 'plt' is not defined",
     "output_type": "error",
     "traceback": [
      "\u001b[1;31m---------------------------------------------------------------------------\u001b[0m",
      "\u001b[1;31mNameError\u001b[0m                                 Traceback (most recent call last)",
      "Cell \u001b[1;32mIn[8], line 1\u001b[0m\n\u001b[1;32m----> 1\u001b[0m fig \u001b[38;5;241m=\u001b[39m \u001b[43mplt\u001b[49m\u001b[38;5;241m.\u001b[39mfigure(figsize\u001b[38;5;241m=\u001b[39m(\u001b[38;5;241m18\u001b[39m, \u001b[38;5;241m5\u001b[39m))\n\u001b[0;32m      3\u001b[0m n \u001b[38;5;241m=\u001b[39m \u001b[38;5;28mlen\u001b[39m(amplitudes)\n\u001b[0;32m      4\u001b[0m ts \u001b[38;5;241m=\u001b[39m np\u001b[38;5;241m.\u001b[39marray(\u001b[38;5;28mrange\u001b[39m(\u001b[38;5;241m0\u001b[39m, n))\n",
      "\u001b[1;31mNameError\u001b[0m: name 'plt' is not defined"
     ]
    }
   ],
   "source": [
    "fig = plt.figure(figsize=(18, 5))\n",
    "\n",
    "n = len(amplitudes)\n",
    "ts = np.array(range(0, n))\n",
    "plt.plot(ts, amplitudes, 'r')\n",
    "\n",
    "xhat_padded = np.concatenate([xhat, np.zeros(n - len(xhat))])\n",
    "plt.plot(ts, xhat_padded, 'b')\n",
    "\n",
    "plt.show()\n"
   ]
  },
  {
   "cell_type": "markdown",
   "id": "728af86d",
   "metadata": {},
   "source": [
    "Visualize the original signal and the decoded signal in the frequency domain"
   ]
  },
  {
   "cell_type": "code",
   "execution_count": 7,
   "id": "b50eb6ae",
   "metadata": {},
   "outputs": [
    {
     "ename": "NameError",
     "evalue": "name 'n' is not defined",
     "output_type": "error",
     "traceback": [
      "\u001b[1;31m---------------------------------------------------------------------------\u001b[0m",
      "\u001b[1;31mNameError\u001b[0m                                 Traceback (most recent call last)",
      "Cell \u001b[1;32mIn[7], line 3\u001b[0m\n\u001b[0;32m      1\u001b[0m \u001b[38;5;28;01mfrom\u001b[39;00m \u001b[38;5;21;01mscipy\u001b[39;00m\u001b[38;5;21;01m.\u001b[39;00m\u001b[38;5;21;01mfft\u001b[39;00m \u001b[38;5;28;01mimport\u001b[39;00m fft, fftfreq\n\u001b[1;32m----> 3\u001b[0m xhat_extended \u001b[38;5;241m=\u001b[39m np\u001b[38;5;241m.\u001b[39mconcatenate([xhat, np\u001b[38;5;241m.\u001b[39mzeros(\u001b[43mn\u001b[49m \u001b[38;5;241m-\u001b[39m \u001b[38;5;28mlen\u001b[39m(xhat))])\n\u001b[0;32m      5\u001b[0m N \u001b[38;5;241m=\u001b[39m \u001b[38;5;28mlen\u001b[39m(amplitudes)\n\u001b[0;32m      6\u001b[0m F \u001b[38;5;241m=\u001b[39m \u001b[38;5;241m1.0\u001b[39m\u001b[38;5;241m/\u001b[39msample_rate\n",
      "\u001b[1;31mNameError\u001b[0m: name 'n' is not defined"
     ]
    }
   ],
   "source": [
    "from scipy.fft import fft, fftfreq\n",
    "\n",
    "xhat_extended = np.concatenate([xhat, np.zeros(n - len(xhat))])\n",
    "\n",
    "N = len(amplitudes)\n",
    "F = 1.0/sample_rate\n",
    "yf1 = fft(amplitudes)\n",
    "yf2 = fft(y2)\n",
    "\n",
    "xf = fftfreq(N, F)[:N//2]\n",
    "\n",
    "fig = plt.figure(figsize=(18, 5))\n",
    "\n",
    "plt.plot(xf, 2.0/N * np.abs(yf[0:N//2]), 'b')\n",
    "plt.plot(xf, 2.0/N * np.abs(yf2[0:N//2]), 'r')\n",
    "\n",
    "plt.show()"
   ]
  },
  {
   "cell_type": "markdown",
   "id": "59d948ef",
   "metadata": {},
   "source": [
    "# Appendix"
   ]
  },
  {
   "cell_type": "markdown",
   "id": "431d80bb",
   "metadata": {},
   "source": [
    "Visualize the Hann window weights"
   ]
  },
  {
   "cell_type": "code",
   "execution_count": null,
   "id": "fcf3e56b",
   "metadata": {},
   "outputs": [],
   "source": [
    "import matplotlib.pyplot as plt\n",
    "\n",
    "sym = False # periodic\n",
    "window_size = floor(0.03*sample_rate)\n",
    "\n",
    "window = hann(window_size, sym) \n",
    "\n",
    "t = np.array(range(window_size))\n",
    "\n",
    "fig = plt.figure(figsize=(18, 5))\n",
    "plt.plot(t, window, 'b')\n",
    "\n",
    "plt.show()"
   ]
  },
  {
   "cell_type": "code",
   "execution_count": null,
   "id": "4cd1e2af",
   "metadata": {},
   "outputs": [],
   "source": []
  }
 ],
 "metadata": {
  "kernelspec": {
   "display_name": "Python 3",
   "language": "python",
   "name": "python3"
  },
  "language_info": {
   "codemirror_mode": {
    "name": "ipython",
    "version": 3
   },
   "file_extension": ".py",
   "mimetype": "text/x-python",
   "name": "python",
   "nbconvert_exporter": "python",
   "pygments_lexer": "ipython3",
   "version": "3.12.4"
  }
 },
 "nbformat": 4,
 "nbformat_minor": 5
}
